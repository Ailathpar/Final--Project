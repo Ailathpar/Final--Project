{
  "nbformat": 4,
  "nbformat_minor": 0,
  "metadata": {
    "colab": {
      "provenance": [],
      "gpuType": "T4"
    },
    "kernelspec": {
      "name": "python3",
      "display_name": "Python 3"
    },
    "language_info": {
      "name": "python"
    },
    "accelerator": "GPU"
  },
  "cells": [
    {
      "cell_type": "code",
      "execution_count": 10,
      "metadata": {
        "colab": {
          "base_uri": "https://localhost:8080/",
          "height": 0
        },
        "id": "PMGWBqGA4G6F",
        "outputId": "7b577471-4d11-4760-cb29-e89fe958dc8a"
      },
      "outputs": [
        {
          "output_type": "stream",
          "name": "stdout",
          "text": [
            "Epoch 1, Loss: 0.6368\n",
            "Epoch 2, Loss: 0.7455\n",
            "Epoch 3, Loss: 0.4129\n",
            "Epoch 4, Loss: 0.4414\n",
            "Epoch 5, Loss: 0.2882\n",
            "Epoch 6, Loss: 0.2358\n",
            "Epoch 7, Loss: 0.2081\n",
            "Epoch 8, Loss: 0.0888\n",
            "Epoch 9, Loss: 0.1145\n",
            "Epoch 10, Loss: 0.0346\n",
            "Epoch 11, Loss: 0.0969\n",
            "Epoch 12, Loss: 0.0265\n",
            "Epoch 13, Loss: 0.0136\n",
            "Epoch 14, Loss: 0.0268\n",
            "Epoch 15, Loss: 0.0182\n"
          ]
        }
      ],
      "source": [
        "import os\n",
        "import torch\n",
        "import torch.nn as nn\n",
        "import torch.optim as optim\n",
        "from torchvision import datasets, transforms\n",
        "from torch.utils.data import DataLoader\n",
        "import matplotlib.pyplot as plt\n",
        "from torchvision.datasets import ImageFolder\n",
        "\n",
        "# Define a simple NN\n",
        "class PlaneClassifier(nn.Module):\n",
        "    def __init__(self):\n",
        "        super(PlaneClassifier, self).__init__()\n",
        "        self.net = nn.Sequential(\n",
        "            nn.Conv2d(3, 16, 3, padding=1),  # input: RGB image\n",
        "            nn.ReLU(),\n",
        "            nn.MaxPool2d(2),\n",
        "            nn.Conv2d(16, 32, 3, padding=1),\n",
        "            nn.ReLU(),\n",
        "            nn.MaxPool2d(2),\n",
        "            nn.Flatten(),\n",
        "            nn.Linear(32 * 56 * 56, 128),  # assumes 224x224 input images\n",
        "            nn.ReLU(),\n",
        "            nn.Linear(128, 1),  # Binary classification\n",
        "            nn.Sigmoid()\n",
        "        )\n",
        "\n",
        "    def forward(self, x):\n",
        "        return self.net(x)\n",
        "\n",
        "# Data transforms\n",
        "transform = transforms.Compose([\n",
        "    transforms.Resize((224, 224)),\n",
        "    transforms.ToTensor()\n",
        "])\n",
        "\n",
        "# Load your dataset\n",
        "# Structure:\n",
        "# dataset/\n",
        "# ├── plane/\n",
        "# └── not_plane/\n",
        "\n",
        "\n",
        "# Custom ImageFolder that ignores .ipynb_checkpoints\n",
        "class CleanImageFolder(ImageFolder):\n",
        "    def find_classes(self, directory):\n",
        "        classes = [d.name for d in os.scandir(directory) if d.is_dir() and not d.name.startswith('.')]\n",
        "        classes.sort()\n",
        "        class_to_idx = {cls_name: i for i, cls_name in enumerate(classes)}\n",
        "        return classes, class_to_idx\n",
        "\n",
        "train_data = CleanImageFolder('dataset/train', transform=transform)\n",
        "val_data = CleanImageFolder('dataset/val', transform=transform)\n",
        "\n",
        "train_loader = DataLoader(train_data, batch_size=32, shuffle=True)\n",
        "val_loader = DataLoader(val_data, batch_size=32)\n",
        "\n",
        "# Initialize model\n",
        "model = PlaneClassifier()\n",
        "criterion = nn.BCELoss()\n",
        "optimizer = optim.Adam(model.parameters(), lr=0.001)\n",
        "\n",
        "# Training loop\n",
        "for epoch in range(15):\n",
        "    model.train()\n",
        "    for imgs, labels in train_loader:\n",
        "        labels = labels.float().unsqueeze(1)  # shape: (batch, 1)\n",
        "        preds = model(imgs)\n",
        "        loss = criterion(preds, labels)\n",
        "        optimizer.zero_grad()\n",
        "        loss.backward()\n",
        "        optimizer.step()\n",
        "    print(f\"Epoch {epoch+1}, Loss: {loss.item():.4f}\")\n"
      ]
    },
    {
      "cell_type": "code",
      "source": [
        "# prompt: make a plot showing the epochs vs loss\n",
        "\n",
        "import matplotlib.pyplot as plt\n",
        "\n",
        "# Assuming you have a list to store losses for each epoch\n",
        "losses = [0.6368, 0.7455, 0.4129, 0.4414, 0.2882, 0.2358, 0.2081, 0.0888, 0.1145, 0.0346, 0.0969, 0.0265, 0.0136, 0.0268, 0.0182]  # Replace this with your actual loss values from the training loop\n",
        "\n",
        "# Plot the epochs vs loss\n",
        "plt.plot(range(1, len(losses) + 1), losses)\n",
        "plt.xlabel('Epoch')\n",
        "plt.ylabel('Loss')\n",
        "plt.title('Epochs vs Loss')\n",
        "plt.grid(True)\n",
        "plt.show()\n"
      ],
      "metadata": {
        "colab": {
          "base_uri": "https://localhost:8080/",
          "height": 472
        },
        "id": "Qd6oA0fDl0aT",
        "outputId": "a065da31-a0cf-4943-d615-749256822469"
      },
      "execution_count": 16,
      "outputs": [
        {
          "output_type": "display_data",
          "data": {
            "text/plain": [
              "<Figure size 640x480 with 1 Axes>"
            ],
            "image/png": "[encoded data removed]"
          },
          "metadata": {}
        }
      ]
    },
    {
      "cell_type": "code",
      "source": [
        "model.eval()  # Set model to evaluation mode\n",
        "correct = 0\n",
        "total = 0\n",
        "\n",
        "with torch.no_grad():  # No need to track gradients\n",
        "    for images, labels in val_loader:\n",
        "        labels = labels.float().unsqueeze(1)\n",
        "        outputs = model(images)\n",
        "        predicted = (outputs > 0.5).float()\n",
        "        correct += (predicted == labels).sum().item()\n",
        "        total += labels.size(0)\n",
        "\n",
        "accuracy = 100 * correct / total\n",
        "print(f\"Validation Accuracy: {accuracy:.2f}%\")"
      ],
      "metadata": {
        "colab": {
          "base_uri": "https://localhost:8080/",
          "height": 0
        },
        "id": "7dSIAfWEJqf3",
        "outputId": "f781c732-861d-4bcb-ae26-ea6496951675"
      },
      "execution_count": 17,
      "outputs": [
        {
          "output_type": "stream",
          "name": "stdout",
          "text": [
            "Validation Accuracy: 64.29%\n"
          ]
        }
      ]
    },
    {
      "cell_type": "code",
      "source": [
        "import matplotlib.pyplot as plt\n",
        "import numpy as np\n",
        "\n",
        "def show_image(img_tensor, title):\n",
        "    img = img_tensor.permute(1, 2, 0).numpy()\n",
        "    plt.imshow(img)\n",
        "    plt.title(title)\n",
        "    plt.axis('off')\n",
        "    plt.show()\n",
        "\n",
        "model.eval()\n",
        "with torch.no_grad():\n",
        "    for images, labels in val_loader:\n",
        "        outputs = model(images)\n",
        "        preds = (outputs > 0.5).float()\n",
        "        for i in range(min(8, len(images))):  # Show 5 images\n",
        "            label = \"Plane\" if labels[i] == 1 else \"Not Plane\"\n",
        "            pred = \"Plane\" if preds[i] == 1 else \"Not Plane\"\n",
        "            title = f\"Label: {label} | Pred: {pred}\"\n",
        "            show_image(images[i], title)\n",
        "        break  # Only show one batch"
      ],
      "metadata": {
        "id": "5Wt-t_odJtE-"
      },
      "execution_count": null,
      "outputs": []
    }
  ]
}